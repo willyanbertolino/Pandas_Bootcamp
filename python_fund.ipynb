{
 "cells": [
  {
   "cell_type": "markdown",
   "id": "5307e19a",
   "metadata": {},
   "source": [
    "# Python Fundamentals"
   ]
  },
  {
   "cell_type": "markdown",
   "id": "291fa6c2",
   "metadata": {},
   "source": [
    "## Data types\n",
    "\n",
    "### Fundamentals\n",
    "int, float, bool, str, tuple, list, dict, set, None"
   ]
  },
  {
   "cell_type": "code",
   "execution_count": 100,
   "id": "c99f711e",
   "metadata": {},
   "outputs": [
    {
     "data": {
      "text/plain": [
       "int"
      ]
     },
     "execution_count": 100,
     "metadata": {},
     "output_type": "execute_result"
    }
   ],
   "source": [
    "# To see the type of the variable\n",
    "type(2)"
   ]
  },
  {
   "cell_type": "code",
   "execution_count": 101,
   "id": "0008f7e6",
   "metadata": {},
   "outputs": [
    {
     "data": {
      "text/plain": [
       "str"
      ]
     },
     "execution_count": 101,
     "metadata": {},
     "output_type": "execute_result"
    }
   ],
   "source": [
    "type('Hello')"
   ]
  },
  {
   "cell_type": "markdown",
   "id": "3bbcca9a",
   "metadata": {},
   "source": [
    "### Variables"
   ]
  },
  {
   "cell_type": "code",
   "execution_count": 102,
   "id": "19bbeb84",
   "metadata": {},
   "outputs": [
    {
     "data": {
      "text/plain": [
       "'Andy'"
      ]
     },
     "execution_count": 102,
     "metadata": {},
     "output_type": "execute_result"
    }
   ],
   "source": [
    "# Assign a value to a variable\n",
    "username = 'Andy'\n",
    "username"
   ]
  },
  {
   "cell_type": "code",
   "execution_count": 103,
   "id": "48971f35",
   "metadata": {},
   "outputs": [
    {
     "data": {
      "text/plain": [
       "19"
      ]
     },
     "execution_count": 103,
     "metadata": {},
     "output_type": "execute_result"
    }
   ],
   "source": [
    "age = 19\n",
    "age"
   ]
  },
  {
   "cell_type": "code",
   "execution_count": 104,
   "id": "67ad4a10",
   "metadata": {},
   "outputs": [
    {
     "name": "stdout",
     "output_type": "stream",
     "text": [
      "Andy 32 Female\n"
     ]
    }
   ],
   "source": [
    "# Multiple assigns\n",
    "user_name, user_age, user_gender = 'Andy', 32, 'Female'\n",
    "print(user_name, user_age, user_gender)"
   ]
  },
  {
   "cell_type": "markdown",
   "id": "10b04f5f",
   "metadata": {},
   "source": [
    "#### Convention\n",
    "snake_case: user_name, user_age, capital_city"
   ]
  },
  {
   "cell_type": "markdown",
   "id": "7a11d7d0",
   "metadata": {},
   "source": [
    "#### Operator\n",
    "Basic arithmetics:  = + - * / % **\\\n",
    "Augmented assignment:  += -= *= /="
   ]
  },
  {
   "cell_type": "code",
   "execution_count": 105,
   "id": "7ebd41bb",
   "metadata": {},
   "outputs": [
    {
     "data": {
      "text/plain": [
       "0.30000000000000004"
      ]
     },
     "execution_count": 105,
     "metadata": {},
     "output_type": "execute_result"
    }
   ],
   "source": [
    "# Side effects of binary operation\n",
    "0.1 + 0.2"
   ]
  },
  {
   "cell_type": "markdown",
   "id": "a6bcf2dc",
   "metadata": {},
   "source": [
    "#### Booleans and Comparison Operator\n",
    "\n",
    "True, False\\\n",
    "operator: < > >= <= != ==\\\n",
    "logical: or and not"
   ]
  },
  {
   "cell_type": "markdown",
   "id": "c3e28ac7",
   "metadata": {},
   "source": [
    "#### Strings\n",
    "\n",
    "single line: ' '   \" \"\\\n",
    "multiline:  '''  '''\\\n",
    "concatenation: '' + ''\\\n",
    "f-strings: f'my name is {var}'"
   ]
  },
  {
   "cell_type": "code",
   "execution_count": 106,
   "id": "8f36d15e",
   "metadata": {},
   "outputs": [
    {
     "data": {
      "text/plain": [
       "'ab'"
      ]
     },
     "execution_count": 106,
     "metadata": {},
     "output_type": "execute_result"
    }
   ],
   "source": [
    "'a'+\"b\""
   ]
  },
  {
   "cell_type": "code",
   "execution_count": 107,
   "id": "e8356712",
   "metadata": {},
   "outputs": [
    {
     "data": {
      "text/plain": [
       "'My name is Andy'"
      ]
     },
     "execution_count": 107,
     "metadata": {},
     "output_type": "execute_result"
    }
   ],
   "source": [
    "var = 'Andy'\n",
    "f'My name is {var}'"
   ]
  },
  {
   "cell_type": "markdown",
   "id": "e15d99ed",
   "metadata": {},
   "source": [
    "#### Built-in methods\n",
    "\n",
    "🧵 str (String)\n",
    "| Method                      | Description                                  |\n",
    "| --------------------------- | -------------------------------------------- |\n",
    "| `.lower()`                  | Converts all characters to lowercase         |\n",
    "| `.upper()`                  | Converts all characters to uppercase         |\n",
    "| `.capitalize()`             | Capitalizes the first letter only            |\n",
    "| `.title()`                  | Capitalizes the first letter of each word    |\n",
    "| `.strip()`                  | Removes whitespace (or chars) from both ends |\n",
    "| `.replace(a, b)`            | Replaces substring `a` with `b`              |\n",
    "| `.split(sep)`               | Splits string into a list                    |\n",
    "| `.join(iterable)`           | Joins iterable elements into a string        |\n",
    "| `.find(sub)`                | Returns the first index of `sub` or `-1`     |\n",
    "| `.startswith(prefix)`       | Checks if string starts with prefix          |\n",
    "| `.endswith(suffix)`         | Checks if string ends with suffix            |\n",
    "| `.count(sub)`               | Counts occurrences of substring              |\n",
    "| `.isalpha()`                | True if all chars are letters                |\n",
    "| `.isdigit()`                | True if all chars are digits                 |\n",
    "| `.isalnum()`                | True if all chars are alphanumeric           |\n",
    "| `.isspace()`                | True if only whitespace                      |\n",
    "| `.format()` / `f\"\"`         | String formatting                            |\n",
    "| `.center()/ljust()/rjust()` | Aligns text within a field                   |\n"
   ]
  },
  {
   "cell_type": "markdown",
   "id": "b518ec66",
   "metadata": {},
   "source": [
    "📜 list (List)\n",
    "| Method              | Description                                |\n",
    "| ------------------- | ------------------------------------------ |\n",
    "| `.append(x)`        | Adds an element to the end                 |\n",
    "| `.extend(iterable)` | Adds multiple elements                     |\n",
    "| `.insert(i, x)`     | Inserts element at index `i`               |\n",
    "| `.remove(x)`        | Removes the first occurrence of `x`        |\n",
    "| `.pop(i)`           | Removes and returns element at index `i`   |\n",
    "| `.clear()`          | Removes all elements                       |\n",
    "| `.sort()`           | Sorts list in place                        |\n",
    "| `.reverse()`        | Reverses list order                        |\n",
    "| `.copy()`           | Returns a shallow copy                     |\n",
    "| `len(lst)`          | Returns number of elements                 |\n",
    "| `sum(lst)`          | Returns the sum of elements (numeric only) |\n"
   ]
  },
  {
   "cell_type": "markdown",
   "id": "341eb9fe",
   "metadata": {},
   "source": [
    "🔑 dict (Dictionary)\n",
    "| Method               | Description                                |\n",
    "| -------------------- | ------------------------------------------ |\n",
    "| `.keys()`            | Returns a view of keys                     |\n",
    "| `.values()`          | Returns a view of values                   |\n",
    "| `.items()`           | Returns pairs (key, value)                 |\n",
    "| `.get(key, default)` | Returns value or default                   |\n",
    "| `.pop(key)`          | Removes and returns a value by key         |\n",
    "| `.popitem()`         | Removes and returns the last inserted pair |\n",
    "| `.update(d)`         | Updates dictionary with another one        |\n",
    "| `.clear()`           | Removes all items                          |\n",
    "| `.copy()`            | Returns a shallow copy                     |\n",
    "| `key in dict`        | Checks if key exists                       |\n"
   ]
  },
  {
   "cell_type": "markdown",
   "id": "9c30b659",
   "metadata": {},
   "source": [
    "⚙️ set (Set)\n",
    "| Method                                | Description                                         |\n",
    "| ------------------------------------- | --------------------------------------------------- |\n",
    "| `.add(x)`                             | Adds an element to the set                          |\n",
    "| `.remove(x)`                          | Removes an element (raises `KeyError` if not found) |\n",
    "| `.discard(x)`                         | Removes an element if present (no error if missing) |\n",
    "| `.pop()`                              | Removes and returns a random element                |\n",
    "| `.clear()`                            | Removes all elements from the set                   |\n",
    "| `.union(other)`                       | Returns the union of sets                           |\n",
    "| `.intersection(other)` or `&`         | Returns the intersection of sets                    |\n",
    "| `.difference(other)` or `-`           | Returns the difference between sets                 |\n",
    "| `.symmetric_difference(other)` or `^` | Returns elements not in both sets                   |\n",
    "| `.issubset(other)`                    | Returns True if set is subset of another            |\n",
    "| `.issuperset(other)`                  | Returns True if set is superset of another          |\n",
    "| `.isdisjoint(other)`                  | Returns True if sets have no elements in common     |\n",
    "| `.copy()`                             | Returns a shallow copy of the set                   |\n"
   ]
  },
  {
   "cell_type": "markdown",
   "id": "9ce6c273",
   "metadata": {},
   "source": [
    "🔢 int / float (Numbers)\n",
    "| Method / Function               | Description                                |\n",
    "| ------------------------------- | ------------------------------------------ |\n",
    "| `.bit_length()`                 | Number of bits needed (int only)           |\n",
    "| `.to_bytes()` / `.from_bytes()` | Binary conversion (int)                    |\n",
    "| `abs(x)`                        | Absolute value                             |\n",
    "| `round(x, n)`                   | Rounds to `n` decimals                     |\n",
    "| `pow(x, y)` / `x ** y`          | Power                                      |\n",
    "| `divmod(x, y)`                  | Returns (quotient, remainder)              |\n",
    "| `x.real`, `x.imag`              | Real and imaginary parts (complex numbers) |\n"
   ]
  },
  {
   "cell_type": "markdown",
   "id": "452ec0af",
   "metadata": {},
   "source": [
    "⚙️ Universal Built-ins (Work on Most Types)\n",
    "| Function              | Description                      |\n",
    "| --------------------- | -------------------------------- |\n",
    "| `type(x)`             | Returns the object’s type        |\n",
    "| `id(x)`               | Returns memory identifier        |\n",
    "| `isinstance(x, type)` | Checks object type               |\n",
    "| `len(x)`              | Returns number of elements       |\n",
    "| `sorted(x)`           | Returns sorted list              |\n",
    "| `sum(x)`              | Sums elements                    |\n",
    "| `max(x)` / `min(x)`   | Largest / smallest element       |\n",
    "| `enumerate(x)`        | Iterates with index              |\n",
    "| `zip(a, b)`           | Pairs elements from sequences    |\n",
    "| `map(f, x)`           | Applies function to all elements |\n",
    "| `filter(f, x)`        | Filters elements                 |\n",
    "| `any(x)` / `all(x)`   | Logical checks across iterables  |\n"
   ]
  },
  {
   "cell_type": "markdown",
   "id": "ab5c3342",
   "metadata": {},
   "source": [
    "#### List [,]"
   ]
  },
  {
   "cell_type": "code",
   "execution_count": 108,
   "id": "a870e38d",
   "metadata": {},
   "outputs": [
    {
     "data": {
      "text/plain": [
       "[12, 14, 13, 8]"
      ]
     },
     "execution_count": 108,
     "metadata": {},
     "output_type": "execute_result"
    }
   ],
   "source": [
    "# simple list - 0 base index \n",
    "ages = [12, 14, 13, 8] # index - 0,1,2\n",
    "ages"
   ]
  },
  {
   "cell_type": "code",
   "execution_count": 109,
   "id": "56d1c945",
   "metadata": {},
   "outputs": [
    {
     "data": {
      "text/plain": [
       "12"
      ]
     },
     "execution_count": 109,
     "metadata": {},
     "output_type": "execute_result"
    }
   ],
   "source": [
    "# access with index\n",
    "ages[0]"
   ]
  },
  {
   "cell_type": "code",
   "execution_count": 110,
   "id": "53107051",
   "metadata": {},
   "outputs": [
    {
     "data": {
      "text/plain": [
       "[14, 13]"
      ]
     },
     "execution_count": 110,
     "metadata": {},
     "output_type": "execute_result"
    }
   ],
   "source": [
    "# select sub-list [start : end] -> [from index: to index - 1]\n",
    "ages[1:3]"
   ]
  },
  {
   "cell_type": "code",
   "execution_count": 111,
   "id": "7cbc83af",
   "metadata": {},
   "outputs": [
    {
     "data": {
      "text/plain": [
       "8"
      ]
     },
     "execution_count": 111,
     "metadata": {},
     "output_type": "execute_result"
    }
   ],
   "source": [
    "# get the last element\n",
    "ages[-1]"
   ]
  },
  {
   "cell_type": "code",
   "execution_count": 112,
   "id": "5f04d451",
   "metadata": {},
   "outputs": [
    {
     "name": "stdout",
     "output_type": "stream",
     "text": [
      "8 14 4\n"
     ]
    }
   ],
   "source": [
    "print(min(ages), max(ages), len(ages))"
   ]
  },
  {
   "cell_type": "code",
   "execution_count": 113,
   "id": "fde57180",
   "metadata": {},
   "outputs": [
    {
     "data": {
      "text/plain": [
       "[8, 12, 13, 14]"
      ]
     },
     "execution_count": 113,
     "metadata": {},
     "output_type": "execute_result"
    }
   ],
   "source": [
    "sorted(ages)"
   ]
  },
  {
   "cell_type": "code",
   "execution_count": 114,
   "id": "e55330f7",
   "metadata": {},
   "outputs": [
    {
     "name": "stdout",
     "output_type": "stream",
     "text": [
      "[8, 13, 14, 12] [14, 13, 12, 8]\n"
     ]
    }
   ],
   "source": [
    "# reverse a list (don't change the original)\n",
    "print(ages[::-1], sorted(ages, reverse=True))"
   ]
  },
  {
   "cell_type": "code",
   "execution_count": 115,
   "id": "88015ead",
   "metadata": {},
   "outputs": [
    {
     "data": {
      "text/plain": [
       "[8, 13, 14, 12]"
      ]
     },
     "execution_count": 115,
     "metadata": {},
     "output_type": "execute_result"
    }
   ],
   "source": [
    "ages.reverse() # change the original\n",
    "ages"
   ]
  },
  {
   "cell_type": "code",
   "execution_count": 116,
   "id": "3294083b",
   "metadata": {},
   "outputs": [
    {
     "data": {
      "text/plain": [
       "[8, 13, 14, 12, 10]"
      ]
     },
     "execution_count": 116,
     "metadata": {},
     "output_type": "execute_result"
    }
   ],
   "source": [
    "# Append new age at the end\n",
    "ages.append(10)\n",
    "ages"
   ]
  },
  {
   "cell_type": "code",
   "execution_count": 117,
   "id": "fd21e850",
   "metadata": {},
   "outputs": [
    {
     "data": {
      "text/plain": [
       "[8, 13, 15, 14, 12, 10]"
      ]
     },
     "execution_count": 117,
     "metadata": {},
     "output_type": "execute_result"
    }
   ],
   "source": [
    "# insert an age at index=2\n",
    "ages.insert(2,15)\n",
    "ages"
   ]
  },
  {
   "cell_type": "code",
   "execution_count": 118,
   "id": "29d1564d",
   "metadata": {},
   "outputs": [
    {
     "data": {
      "text/plain": [
       "[8, 13, 14, 12, 10, 15]"
      ]
     },
     "execution_count": 118,
     "metadata": {},
     "output_type": "execute_result"
    }
   ],
   "source": [
    "# Remove (first ocurrence)\n",
    "ages.append(15)\n",
    "ages.remove(15)\n",
    "ages"
   ]
  },
  {
   "cell_type": "code",
   "execution_count": 120,
   "id": "c62550bc",
   "metadata": {},
   "outputs": [
    {
     "data": {
      "text/plain": [
       "'Andy Sympson'"
      ]
     },
     "execution_count": 120,
     "metadata": {},
     "output_type": "execute_result"
    }
   ],
   "source": [
    "# join string list\n",
    "full_name = ['Andy', 'Sympson']\n",
    "' '.join(full_name)"
   ]
  },
  {
   "cell_type": "markdown",
   "id": "a3b7c7fa",
   "metadata": {},
   "source": [
    "#### Tuples (,)"
   ]
  },
  {
   "cell_type": "code",
   "execution_count": 121,
   "id": "944b8e3d",
   "metadata": {},
   "outputs": [
    {
     "data": {
      "text/plain": [
       "tuple"
      ]
     },
     "execution_count": 121,
     "metadata": {},
     "output_type": "execute_result"
    }
   ],
   "source": [
    "u2 = ('band', 2023)\n",
    "type(u2)"
   ]
  },
  {
   "cell_type": "code",
   "execution_count": null,
   "id": "9c85309f",
   "metadata": {},
   "outputs": [
    {
     "data": {
      "text/plain": [
       "2023"
      ]
     },
     "execution_count": 122,
     "metadata": {},
     "output_type": "execute_result"
    }
   ],
   "source": [
    "# tuples are immutable -> u2[1] = 2020 -> err\n",
    "u2[1]"
   ]
  },
  {
   "cell_type": "markdown",
   "id": "9cb37ed4",
   "metadata": {},
   "source": [
    "#### Sets {,}"
   ]
  },
  {
   "cell_type": "code",
   "execution_count": 125,
   "id": "b3e63198",
   "metadata": {},
   "outputs": [
    {
     "data": {
      "text/plain": [
       "{12, 14, 15}"
      ]
     },
     "execution_count": 125,
     "metadata": {},
     "output_type": "execute_result"
    }
   ],
   "source": [
    "# sets are unordered set1[1] -> err\n",
    "set1 = {12, 14, 14, 15}\n",
    "set1"
   ]
  },
  {
   "cell_type": "code",
   "execution_count": 126,
   "id": "82901059",
   "metadata": {},
   "outputs": [
    {
     "data": {
      "text/plain": [
       "{12, 14, 15, 20}"
      ]
     },
     "execution_count": 126,
     "metadata": {},
     "output_type": "execute_result"
    }
   ],
   "source": [
    "set1.add(20)\n",
    "set1"
   ]
  },
  {
   "cell_type": "code",
   "execution_count": 127,
   "id": "f4dce465",
   "metadata": {},
   "outputs": [
    {
     "data": {
      "text/plain": [
       "{14, 15, 20}"
      ]
     },
     "execution_count": 127,
     "metadata": {},
     "output_type": "execute_result"
    }
   ],
   "source": [
    "set1.discard(12)\n",
    "set1"
   ]
  },
  {
   "cell_type": "code",
   "execution_count": 131,
   "id": "afc965f2",
   "metadata": {},
   "outputs": [
    {
     "name": "stdout",
     "output_type": "stream",
     "text": [
      "{1, 2, 3, 4, 5, 6, 7, 8} {1, 2, 7} {4, 6} {8, 3, 5} False\n"
     ]
    }
   ],
   "source": [
    "A = {1,2,4,6,7}\n",
    "B = {1,2,3,5,7,8}\n",
    "print(A.union(B), A.intersection(B), A.difference(B), B.difference(A), A.issubset(B))"
   ]
  },
  {
   "cell_type": "code",
   "execution_count": null,
   "id": "20ed77cd",
   "metadata": {},
   "outputs": [
    {
     "data": {
      "text/plain": [
       "[1, 2, 3, 4, 5]"
      ]
     },
     "execution_count": 133,
     "metadata": {},
     "output_type": "execute_result"
    }
   ],
   "source": [
    "# Get unique values of a list\n",
    "list1 = [1,2,2,1,4,3,3,2,2,1,3,5,2,2,1,5]\n",
    "unique = set(list1)\n",
    "list(unique)"
   ]
  },
  {
   "cell_type": "markdown",
   "id": "5d4fc1b3",
   "metadata": {},
   "source": [
    "#### Dictionary {k1:v1,k2:v2}"
   ]
  },
  {
   "cell_type": "code",
   "execution_count": 134,
   "id": "3c57b667",
   "metadata": {},
   "outputs": [
    {
     "data": {
      "text/plain": [
       "{'Andy': 21, 'Rob': 22}"
      ]
     },
     "execution_count": 134,
     "metadata": {},
     "output_type": "execute_result"
    }
   ],
   "source": [
    "dict1 = {'Andy': 21, 'Rob': 22}\n",
    "dict1"
   ]
  },
  {
   "cell_type": "code",
   "execution_count": 137,
   "id": "9f791b0f",
   "metadata": {},
   "outputs": [
    {
     "data": {
      "text/plain": [
       "21"
      ]
     },
     "execution_count": 137,
     "metadata": {},
     "output_type": "execute_result"
    }
   ],
   "source": [
    "dict1['Andy']"
   ]
  },
  {
   "cell_type": "code",
   "execution_count": 138,
   "id": "85257fa3",
   "metadata": {},
   "outputs": [
    {
     "name": "stdout",
     "output_type": "stream",
     "text": [
      "21 None\n"
     ]
    }
   ],
   "source": [
    "# get don't break for miss keys\n",
    "print(dict1.get('Andy'), dict1.get('Suel'))"
   ]
  },
  {
   "cell_type": "code",
   "execution_count": 139,
   "id": "5f9f0654",
   "metadata": {},
   "outputs": [
    {
     "data": {
      "text/plain": [
       "{'Andy': 21, 'Rob': 22, 'Tom': 19}"
      ]
     },
     "execution_count": 139,
     "metadata": {},
     "output_type": "execute_result"
    }
   ],
   "source": [
    "# Insert new element\n",
    "dict1['Tom'] = 19\n",
    "dict1"
   ]
  },
  {
   "cell_type": "code",
   "execution_count": 140,
   "id": "97130838",
   "metadata": {},
   "outputs": [
    {
     "data": {
      "text/plain": [
       "{'Rob': 22, 'Tom': 19}"
      ]
     },
     "execution_count": 140,
     "metadata": {},
     "output_type": "execute_result"
    }
   ],
   "source": [
    "# remove\n",
    "dict1.pop('Andy')\n",
    "dict1"
   ]
  },
  {
   "cell_type": "code",
   "execution_count": 143,
   "id": "22917058",
   "metadata": {},
   "outputs": [
    {
     "name": "stdout",
     "output_type": "stream",
     "text": [
      "dict_keys(['Rob', 'Tom']) dict_values([22, 19]) dict_items([('Rob', 22), ('Tom', 19)])\n"
     ]
    }
   ],
   "source": [
    "print(dict1.keys(), dict1.values(), dict1.items())"
   ]
  },
  {
   "cell_type": "code",
   "execution_count": 144,
   "id": "083b6850",
   "metadata": {},
   "outputs": [
    {
     "data": {
      "text/plain": [
       "['Rob', 'Tom']"
      ]
     },
     "execution_count": 144,
     "metadata": {},
     "output_type": "execute_result"
    }
   ],
   "source": [
    "# A list of key values\n",
    "list(dict1.keys())"
   ]
  },
  {
   "cell_type": "markdown",
   "id": "1b509e49",
   "metadata": {},
   "source": [
    "#### Membership operator 'in'"
   ]
  },
  {
   "cell_type": "code",
   "execution_count": 145,
   "id": "5a1d0d57",
   "metadata": {},
   "outputs": [
    {
     "data": {
      "text/plain": [
       "True"
      ]
     },
     "execution_count": 145,
     "metadata": {},
     "output_type": "execute_result"
    }
   ],
   "source": [
    "'Rob' in dict1"
   ]
  },
  {
   "cell_type": "code",
   "execution_count": 147,
   "id": "2ef42035",
   "metadata": {},
   "outputs": [
    {
     "data": {
      "text/plain": [
       "True"
      ]
     },
     "execution_count": 147,
     "metadata": {},
     "output_type": "execute_result"
    }
   ],
   "source": [
    "22 not in ages"
   ]
  },
  {
   "cell_type": "code",
   "execution_count": 148,
   "id": "5552bc25",
   "metadata": {},
   "outputs": [
    {
     "data": {
      "text/plain": [
       "True"
      ]
     },
     "execution_count": 148,
     "metadata": {},
     "output_type": "execute_result"
    }
   ],
   "source": [
    "19 in list(dict1.values())"
   ]
  },
  {
   "cell_type": "code",
   "execution_count": 150,
   "id": "44ce633a",
   "metadata": {},
   "outputs": [
    {
     "name": "stdout",
     "output_type": "stream",
     "text": [
      "True False\n"
     ]
    }
   ],
   "source": [
    "name = 'Tom Kovstiod'\n",
    "print('ovs' in name, 'to' in name)"
   ]
  },
  {
   "cell_type": "markdown",
   "id": "eb1dceae",
   "metadata": {},
   "source": [
    "#### Conditional"
   ]
  },
  {
   "cell_type": "code",
   "execution_count": 156,
   "id": "b770790c",
   "metadata": {},
   "outputs": [
    {
     "name": "stdout",
     "output_type": "stream",
     "text": [
      "no\n"
     ]
    }
   ],
   "source": [
    "quantity = 0\n",
    "\n",
    "if quantity > 10:\n",
    "    print('yes')\n",
    "else:\n",
    "    print('no')"
   ]
  },
  {
   "cell_type": "code",
   "execution_count": 157,
   "id": "e666887f",
   "metadata": {},
   "outputs": [
    {
     "name": "stdout",
     "output_type": "stream",
     "text": [
      "low\n"
     ]
    }
   ],
   "source": [
    "if quantity <= 10:\n",
    "    print('low')\n",
    "elif quantity > 10 and quantity <= 50:\n",
    "    print('medium')\n",
    "else:\n",
    "    print('high')"
   ]
  },
  {
   "cell_type": "code",
   "execution_count": 167,
   "id": "25b61c80",
   "metadata": {},
   "outputs": [
    {
     "name": "stdout",
     "output_type": "stream",
     "text": [
      "False\n"
     ]
    }
   ],
   "source": [
    "# False values: None, False, (), {}, [],'', 0, 0.0\n",
    "if '':\n",
    "    print('True')\n",
    "else:\n",
    "    print('False')"
   ]
  },
  {
   "cell_type": "markdown",
   "id": "439d2883",
   "metadata": {},
   "source": [
    "#### For Loop"
   ]
  },
  {
   "cell_type": "code",
   "execution_count": 168,
   "id": "26bc71c9",
   "metadata": {},
   "outputs": [
    {
     "name": "stdout",
     "output_type": "stream",
     "text": [
      "orange\n",
      "apple\n",
      "pineapple\n",
      "grape\n"
     ]
    }
   ],
   "source": [
    "fruits = ['orange', 'apple', 'pineapple', 'grape']\n",
    "\n",
    "for fruit in fruits:\n",
    "    print(fruit)"
   ]
  },
  {
   "cell_type": "code",
   "execution_count": 169,
   "id": "31ce971b",
   "metadata": {},
   "outputs": [
    {
     "name": "stdout",
     "output_type": "stream",
     "text": [
      "o\n",
      "r\n",
      "a\n",
      "n\n",
      "g\n",
      "e\n"
     ]
    }
   ],
   "source": [
    "for char in fruits[0]:\n",
    "    print(char)"
   ]
  },
  {
   "cell_type": "code",
   "execution_count": 170,
   "id": "e50184ed",
   "metadata": {},
   "outputs": [
    {
     "data": {
      "text/plain": [
       "[1, 2, 3]"
      ]
     },
     "execution_count": 170,
     "metadata": {},
     "output_type": "execute_result"
    }
   ],
   "source": [
    "# range -> range(start: end: step)\n",
    "list(range(1,4))"
   ]
  },
  {
   "cell_type": "code",
   "execution_count": 172,
   "id": "5a45eeba",
   "metadata": {},
   "outputs": [
    {
     "data": {
      "text/plain": [
       "[20, 23, 26, 29, 32, 35, 38, 41, 44, 47]"
      ]
     },
     "execution_count": 172,
     "metadata": {},
     "output_type": "execute_result"
    }
   ],
   "source": [
    "list(range(20,50,3))"
   ]
  },
  {
   "cell_type": "code",
   "execution_count": null,
   "id": "32875917",
   "metadata": {},
   "outputs": [
    {
     "name": "stdout",
     "output_type": "stream",
     "text": [
      "bla0\n",
      "bla1\n",
      "bla2\n",
      "bla3\n",
      "bla4\n"
     ]
    }
   ],
   "source": [
    "# for loops using range(a) (a=stop, start=0)\n",
    "n = 5\n",
    "bla = 'bla'\n",
    "\n",
    "for i in range(n):\n",
    "    print(bla + str(i))"
   ]
  },
  {
   "cell_type": "markdown",
   "id": "41483c3e",
   "metadata": {},
   "source": [
    "#### While loop"
   ]
  },
  {
   "cell_type": "code",
   "execution_count": null,
   "id": "0b1e5b10",
   "metadata": {},
   "outputs": [
    {
     "name": "stdout",
     "output_type": "stream",
     "text": [
      "played games 6, balance 488, cost for next game 1536\n"
     ]
    }
   ],
   "source": [
    "# How many games can be played if it dobles the cost for each round;\n",
    "balance = 2000\n",
    "cost_round = 24\n",
    "played = 0\n",
    "\n",
    "while balance > cost_round:\n",
    "    played += 1\n",
    "    balance -= cost_round\n",
    "    cost_round *= 2\n",
    "\n",
    "print(f'played games {played}, balance {balance}, cost for next game {cost_round}')"
   ]
  },
  {
   "cell_type": "markdown",
   "id": "974301e9",
   "metadata": {},
   "source": [
    "##### Break and Continue"
   ]
  },
  {
   "cell_type": "code",
   "execution_count": 197,
   "id": "327caf41",
   "metadata": {},
   "outputs": [
    {
     "name": "stdout",
     "output_type": "stream",
     "text": [
      "1\n",
      "3\n",
      "5\n",
      "6\n",
      "8\n",
      "10\n"
     ]
    }
   ],
   "source": [
    "values = [1, 3, 5, 6, 8, 10, 11, 14, 16, 20]\n",
    "\n",
    "for value in values:\n",
    "    if value > 10: break\n",
    "    print(value)"
   ]
  },
  {
   "cell_type": "code",
   "execution_count": 195,
   "id": "530dd853",
   "metadata": {},
   "outputs": [
    {
     "name": "stdout",
     "output_type": "stream",
     "text": [
      "1\n",
      "3\n",
      "5\n",
      "10\n",
      "11\n",
      "14\n",
      "16\n",
      "20\n"
     ]
    }
   ],
   "source": [
    "# continue -> skip\n",
    "for value in values:\n",
    "    if value > 5 and value < 10: continue\n",
    "    print(value)"
   ]
  },
  {
   "cell_type": "markdown",
   "id": "b78acbb1",
   "metadata": {},
   "source": [
    "#### Zipping iterables"
   ]
  },
  {
   "cell_type": "code",
   "execution_count": 209,
   "id": "958b2dae",
   "metadata": {},
   "outputs": [
    {
     "data": {
      "text/plain": [
       "[('orange', 1.12, 10),\n",
       " ('apple', 2.26, 2),\n",
       " ('pineapple', 3.51, 1),\n",
       " ('grape', 5.98, 4),\n",
       " ('melon', 3.54, 1)]"
      ]
     },
     "execution_count": 209,
     "metadata": {},
     "output_type": "execute_result"
    }
   ],
   "source": [
    "fruits = ['orange', 'apple', 'pineapple', 'grape', 'melon']\n",
    "prices = [1.12, 2.26, 3.51, 5.98, 3.54]\n",
    "amount = [10, 2, 1, 4, 1]\n",
    "\n",
    "list(zip(fruits, prices, amount))"
   ]
  },
  {
   "cell_type": "code",
   "execution_count": 210,
   "id": "d4ad8131",
   "metadata": {},
   "outputs": [
    {
     "name": "stdout",
     "output_type": "stream",
     "text": [
      "Orange costs 1.12 and bougth 10\n",
      "Apple costs 2.26 and bougth 2\n",
      "Pineapple costs 3.51 and bougth 1\n",
      "Grape costs 5.98 and bougth 4\n",
      "Melon costs 3.54 and bougth 1\n"
     ]
    }
   ],
   "source": [
    "for f, p, a in zip(fruits, prices, amount):\n",
    "    print(f'{f.capitalize()} costs {p} and bougth {a}')"
   ]
  },
  {
   "cell_type": "markdown",
   "id": "3038139e",
   "metadata": {},
   "source": [
    "#### List comprehension"
   ]
  },
  {
   "cell_type": "code",
   "execution_count": 214,
   "id": "9190c9e8",
   "metadata": {},
   "outputs": [
    {
     "data": {
      "text/plain": [
       "[20, 4, 2, 8, 2]"
      ]
     },
     "execution_count": 214,
     "metadata": {},
     "output_type": "execute_result"
    }
   ],
   "source": [
    "doble_amount = [a*2 for a in amount]\n",
    "doble_amount\n"
   ]
  },
  {
   "cell_type": "code",
   "execution_count": 217,
   "id": "f9826a90",
   "metadata": {},
   "outputs": [
    {
     "data": {
      "text/plain": [
       "[10, 2, 4]"
      ]
     },
     "execution_count": 217,
     "metadata": {},
     "output_type": "execute_result"
    }
   ],
   "source": [
    "even_amount = [a for a in amount if a % 2 == 0]\n",
    "even_amount"
   ]
  },
  {
   "cell_type": "code",
   "execution_count": 219,
   "id": "0f3ca2cb",
   "metadata": {},
   "outputs": [
    {
     "data": {
      "text/plain": [
       "[1, 1]"
      ]
     },
     "execution_count": 219,
     "metadata": {},
     "output_type": "execute_result"
    }
   ],
   "source": [
    "odd_amount = [a for a in amount if a % 2 == 1]\n",
    "odd_amount"
   ]
  },
  {
   "cell_type": "markdown",
   "id": "a2827e85",
   "metadata": {},
   "source": [
    "#### Function"
   ]
  },
  {
   "cell_type": "code",
   "execution_count": 224,
   "id": "0bd566ab",
   "metadata": {},
   "outputs": [
    {
     "data": {
      "text/plain": [
       "{'orange': 1.12,\n",
       " 'apple': 2.26,\n",
       " 'pineapple': 3.51,\n",
       " 'grape': 5.98,\n",
       " 'melon': 3.54}"
      ]
     },
     "execution_count": 224,
     "metadata": {},
     "output_type": "execute_result"
    }
   ],
   "source": [
    "def dict_fruits(fruits, prices):\n",
    "    dict_temp = {}\n",
    "    \n",
    "    for f,p in zip(fruits, prices):\n",
    "        dict_temp[f] = p\n",
    "\n",
    "    return dict_temp\n",
    "\n",
    "fruits = ['orange', 'apple', 'pineapple', 'grape', 'melon']\n",
    "prices = [1.12, 2.26, 3.51, 5.98, 3.54]\n",
    "\n",
    "dict_fruits(fruits, prices)"
   ]
  },
  {
   "cell_type": "markdown",
   "id": "db42d019",
   "metadata": {},
   "source": [
    "#### Lambdas"
   ]
  },
  {
   "cell_type": "code",
   "execution_count": null,
   "id": "5e1274e9",
   "metadata": {},
   "outputs": [
    {
     "data": {
      "text/plain": [
       "[1.2320000000000002,\n",
       " 2.4859999999999998,\n",
       " 3.861,\n",
       " 6.578000000000001,\n",
       " 3.8940000000000006]"
      ]
     },
     "execution_count": 225,
     "metadata": {},
     "output_type": "execute_result"
    }
   ],
   "source": [
    "# Nameless function that is used once.\n",
    "\n",
    "[(lambda x: x*1.1)(p) for p in prices]"
   ]
  },
  {
   "cell_type": "code",
   "execution_count": null,
   "id": "0960abd6",
   "metadata": {},
   "outputs": [
    {
     "data": {
      "text/plain": [
       "[1, 5, 9, 13, 17]"
      ]
     },
     "execution_count": 226,
     "metadata": {},
     "output_type": "execute_result"
    }
   ],
   "source": [
    "list(map(lambda x: 2*x -1, [n for n in range(10) if n % 2 == 1]))"
   ]
  }
 ],
 "metadata": {
  "kernelspec": {
   "display_name": "data_science_env",
   "language": "python",
   "name": "python3"
  },
  "language_info": {
   "codemirror_mode": {
    "name": "ipython",
    "version": 3
   },
   "file_extension": ".py",
   "mimetype": "text/x-python",
   "name": "python",
   "nbconvert_exporter": "python",
   "pygments_lexer": "ipython3",
   "version": "3.13.2"
  }
 },
 "nbformat": 4,
 "nbformat_minor": 5
}
