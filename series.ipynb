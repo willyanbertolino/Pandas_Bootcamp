{
 "cells": [
  {
   "cell_type": "markdown",
   "id": "5be6f514",
   "metadata": {},
   "source": [
    "# Series\n",
    "\n",
    "Series are one dimension, labeled arrays of any data type\\\n",
    "or, a sequence of values with associated labels"
   ]
  },
  {
   "cell_type": "code",
   "execution_count": 283,
   "id": "2782c9df",
   "metadata": {},
   "outputs": [],
   "source": [
    "import pandas as pd"
   ]
  },
  {
   "cell_type": "code",
   "execution_count": 284,
   "id": "5ed736f9",
   "metadata": {},
   "outputs": [
    {
     "data": {
      "text/plain": [
       "0     Andy\n",
       "1    Simon\n",
       "2      Joe\n",
       "3     John\n",
       "dtype: object"
      ]
     },
     "execution_count": 284,
     "metadata": {},
     "output_type": "execute_result"
    }
   ],
   "source": [
    "# Strings are converted into objects because NumPy expects all values to have the same size,\n",
    "# so it converts them into objects with the same pointer size.\n",
    "students = ['Andy', 'Simon', 'Joe', 'John'] # python list\n",
    "pd.Series(students)"
   ]
  },
  {
   "cell_type": "code",
   "execution_count": 285,
   "id": "7b6c6f69",
   "metadata": {},
   "outputs": [
    {
     "data": {
      "text/plain": [
       "0    12\n",
       "1    32\n",
       "2    43\n",
       "3    52\n",
       "dtype: int64"
      ]
     },
     "execution_count": 285,
     "metadata": {},
     "output_type": "execute_result"
    }
   ],
   "source": [
    "ages = [12, 32, 43, 52]\n",
    "pd.Series(ages)"
   ]
  },
  {
   "cell_type": "code",
   "execution_count": 286,
   "id": "9e6dc9c2",
   "metadata": {},
   "outputs": [
    {
     "data": {
      "text/plain": [
       "0    1.71\n",
       "1    1.67\n",
       "2    1.83\n",
       "3    1.77\n",
       "dtype: float64"
      ]
     },
     "execution_count": 286,
     "metadata": {},
     "output_type": "execute_result"
    }
   ],
   "source": [
    "heights = [1.71, 1.67, 1.83, 1.77]\n",
    "heights_s = pd.Series(heights)\n",
    "heights_s"
   ]
  },
  {
   "cell_type": "code",
   "execution_count": 287,
   "id": "016dcbfa",
   "metadata": {},
   "outputs": [
    {
     "data": {
      "text/plain": [
       "0                   Andy\n",
       "1                     32\n",
       "2    {'phone': '222222'}\n",
       "dtype: object"
      ]
     },
     "execution_count": 287,
     "metadata": {},
     "output_type": "execute_result"
    }
   ],
   "source": [
    "mixed = ['Andy', 32, {'phone':\"222222\"}]\n",
    "pd.Series(mixed)"
   ]
  },
  {
   "cell_type": "code",
   "execution_count": 288,
   "id": "f617a017",
   "metadata": {},
   "outputs": [
    {
     "data": {
      "text/plain": [
       "Andy    32\n",
       "Joe     23\n",
       "John    31\n",
       "dtype: int64"
      ]
     },
     "execution_count": 288,
     "metadata": {},
     "output_type": "execute_result"
    }
   ],
   "source": [
    "dict_1 = {\"Andy\":32, \"Joe\":23, \"John\": 31}\n",
    "pd.Series(dict_1)"
   ]
  },
  {
   "cell_type": "code",
   "execution_count": 289,
   "id": "36b2ae5b",
   "metadata": {},
   "outputs": [
    {
     "data": {
      "text/plain": [
       "0    1.71\n",
       "1    1.67\n",
       "2    1.83\n",
       "3    1.77\n",
       "Name: height (m), dtype: float64"
      ]
     },
     "execution_count": 289,
     "metadata": {},
     "output_type": "execute_result"
    }
   ],
   "source": [
    "# Name attribute - It will become the column name in a DataFrame.\n",
    "heights_s.name = 'height (m)'\n",
    "heights_s"
   ]
  },
  {
   "cell_type": "code",
   "execution_count": 290,
   "id": "e01fb8e2",
   "metadata": {},
   "outputs": [
    {
     "data": {
      "text/plain": [
       "Andy     12\n",
       "Simon    32\n",
       "Joe      43\n",
       "John     52\n",
       "Name: students_ages, dtype: int64"
      ]
     },
     "execution_count": 290,
     "metadata": {},
     "output_type": "execute_result"
    }
   ],
   "source": [
    "pd.Series(dict(zip(students, ages)), name='students_ages')"
   ]
  },
  {
   "cell_type": "code",
   "execution_count": 291,
   "id": "9b2fb297",
   "metadata": {},
   "outputs": [
    {
     "data": {
      "text/plain": [
       "0    0\n",
       "1    1\n",
       "2    2\n",
       "3    3\n",
       "4    4\n",
       "dtype: int64"
      ]
     },
     "execution_count": 291,
     "metadata": {},
     "output_type": "execute_result"
    }
   ],
   "source": [
    "# head(n=5) tail(n=5)\n",
    "int_series = pd.Series(range(60))\n",
    "int_series.head()"
   ]
  },
  {
   "cell_type": "code",
   "execution_count": 292,
   "id": "3a2baa05",
   "metadata": {},
   "outputs": [
    {
     "data": {
      "text/plain": [
       "0    0\n",
       "1    1\n",
       "2    2\n",
       "3    3\n",
       "4    4\n",
       "5    5\n",
       "6    6\n",
       "7    7\n",
       "8    8\n",
       "9    9\n",
       "dtype: int64"
      ]
     },
     "execution_count": 292,
     "metadata": {},
     "output_type": "execute_result"
    }
   ],
   "source": [
    "int_series[0:10]"
   ]
  },
  {
   "cell_type": "code",
   "execution_count": 293,
   "id": "2f928684",
   "metadata": {},
   "outputs": [
    {
     "data": {
      "text/plain": [
       "5    5\n",
       "6    6\n",
       "7    7\n",
       "8    8\n",
       "9    9\n",
       "dtype: int64"
      ]
     },
     "execution_count": 293,
     "metadata": {},
     "output_type": "execute_result"
    }
   ],
   "source": [
    "int_series[5:10]"
   ]
  },
  {
   "cell_type": "code",
   "execution_count": 294,
   "id": "d5402c26",
   "metadata": {},
   "outputs": [
    {
     "data": {
      "text/plain": [
       "54    54\n",
       "55    55\n",
       "56    56\n",
       "57    57\n",
       "58    58\n",
       "59    59\n",
       "dtype: int64"
      ]
     },
     "execution_count": 294,
     "metadata": {},
     "output_type": "execute_result"
    }
   ],
   "source": [
    "int_series[-6:]"
   ]
  },
  {
   "cell_type": "markdown",
   "id": "abe18a7d",
   "metadata": {},
   "source": [
    "### .loc"
   ]
  },
  {
   "cell_type": "code",
   "execution_count": 295,
   "id": "5433e4bd",
   "metadata": {},
   "outputs": [
    {
     "data": {
      "text/plain": [
       "30    30\n",
       "31    31\n",
       "32    32\n",
       "33    33\n",
       "34    34\n",
       "35    35\n",
       "36    36\n",
       "37    37\n",
       "38    38\n",
       "dtype: int64"
      ]
     },
     "execution_count": 295,
     "metadata": {},
     "output_type": "execute_result"
    }
   ],
   "source": [
    "int_series.loc[30:38]"
   ]
  },
  {
   "cell_type": "code",
   "execution_count": 296,
   "id": "227497cb",
   "metadata": {},
   "outputs": [
    {
     "data": {
      "text/plain": [
       "0      0\n",
       "2      2\n",
       "4      4\n",
       "6      6\n",
       "8      8\n",
       "10    10\n",
       "12    12\n",
       "14    14\n",
       "16    16\n",
       "18    18\n",
       "20    20\n",
       "22    22\n",
       "24    24\n",
       "26    26\n",
       "28    28\n",
       "30    30\n",
       "32    32\n",
       "34    34\n",
       "36    36\n",
       "38    38\n",
       "40    40\n",
       "42    42\n",
       "44    44\n",
       "46    46\n",
       "48    48\n",
       "50    50\n",
       "52    52\n",
       "54    54\n",
       "56    56\n",
       "58    58\n",
       "dtype: int64"
      ]
     },
     "execution_count": 296,
     "metadata": {},
     "output_type": "execute_result"
    }
   ],
   "source": [
    "# Boolean Mask\n",
    "int_series.loc[[True if i%2==0 else False for i in range(60)]]"
   ]
  },
  {
   "cell_type": "code",
   "execution_count": 297,
   "id": "954e6930",
   "metadata": {},
   "outputs": [
    {
     "data": {
      "text/plain": [
       "0        0\n",
       "1        1\n",
       "2        4\n",
       "3        9\n",
       "4       16\n",
       "      ... \n",
       "95    9025\n",
       "96    9216\n",
       "97    9409\n",
       "98    9604\n",
       "99    9801\n",
       "Length: 100, dtype: int64"
      ]
     },
     "execution_count": 297,
     "metadata": {},
     "output_type": "execute_result"
    }
   ],
   "source": [
    "# Exercise\n",
    "squares = pd.Series([i**2 for i in range(100)])\n",
    "squares"
   ]
  },
  {
   "cell_type": "code",
   "execution_count": 298,
   "id": "91f1fc02",
   "metadata": {},
   "outputs": [
    {
     "data": {
      "text/plain": [
       "97    9409\n",
       "98    9604\n",
       "99    9801\n",
       "dtype: int64"
      ]
     },
     "execution_count": 298,
     "metadata": {},
     "output_type": "execute_result"
    }
   ],
   "source": [
    "squares[-3:]"
   ]
  },
  {
   "cell_type": "code",
   "execution_count": 299,
   "id": "0069c672",
   "metadata": {},
   "outputs": [
    {
     "data": {
      "text/plain": [
       "97    9409\n",
       "98    9604\n",
       "99    9801\n",
       "dtype: int64"
      ]
     },
     "execution_count": 299,
     "metadata": {},
     "output_type": "execute_result"
    }
   ],
   "source": [
    "squares.tail(3)"
   ]
  },
  {
   "cell_type": "code",
   "execution_count": 300,
   "id": "bae540f2",
   "metadata": {},
   "outputs": [
    {
     "data": {
      "text/plain": [
       "True"
      ]
     },
     "execution_count": 300,
     "metadata": {},
     "output_type": "execute_result"
    }
   ],
   "source": [
    "squares[-3:].equals(squares.tail(3))"
   ]
  },
  {
   "cell_type": "markdown",
   "id": "4c56c8c2",
   "metadata": {},
   "source": [
    "#### Atributes"
   ]
  },
  {
   "cell_type": "code",
   "execution_count": 301,
   "id": "a3f4783c",
   "metadata": {},
   "outputs": [
    {
     "data": {
      "text/plain": [
       "100"
      ]
     },
     "execution_count": 301,
     "metadata": {},
     "output_type": "execute_result"
    }
   ],
   "source": [
    "squares.size"
   ]
  },
  {
   "cell_type": "code",
   "execution_count": 302,
   "id": "7b3f732b",
   "metadata": {},
   "outputs": [
    {
     "data": {
      "text/plain": [
       "(100,)"
      ]
     },
     "execution_count": 302,
     "metadata": {},
     "output_type": "execute_result"
    }
   ],
   "source": [
    "squares.shape"
   ]
  },
  {
   "cell_type": "code",
   "execution_count": 303,
   "id": "2cb39381",
   "metadata": {},
   "outputs": [
    {
     "data": {
      "text/plain": [
       "100"
      ]
     },
     "execution_count": 303,
     "metadata": {},
     "output_type": "execute_result"
    }
   ],
   "source": [
    "len(squares)"
   ]
  },
  {
   "cell_type": "code",
   "execution_count": 304,
   "id": "9356c65e",
   "metadata": {},
   "outputs": [
    {
     "data": {
      "text/plain": [
       "True"
      ]
     },
     "execution_count": 304,
     "metadata": {},
     "output_type": "execute_result"
    }
   ],
   "source": [
    "# unique values\n",
    "squares.is_unique"
   ]
  },
  {
   "cell_type": "code",
   "execution_count": 305,
   "id": "54dec097",
   "metadata": {},
   "outputs": [
    {
     "data": {
      "text/plain": [
       "100"
      ]
     },
     "execution_count": 305,
     "metadata": {},
     "output_type": "execute_result"
    }
   ],
   "source": [
    "# number of unique values\n",
    "squares.nunique()"
   ]
  },
  {
   "cell_type": "code",
   "execution_count": 306,
   "id": "05f25602",
   "metadata": {},
   "outputs": [
    {
     "data": {
      "text/plain": [
       "True"
      ]
     },
     "execution_count": 306,
     "metadata": {},
     "output_type": "execute_result"
    }
   ],
   "source": [
    "squares.is_monotonic_increasing"
   ]
  },
  {
   "cell_type": "code",
   "execution_count": 307,
   "id": "8598cd35",
   "metadata": {},
   "outputs": [
    {
     "data": {
      "text/plain": [
       "np.int64(100)"
      ]
     },
     "execution_count": 307,
     "metadata": {},
     "output_type": "execute_result"
    }
   ],
   "source": [
    "# Count the number of non empty values\n",
    "squares.count()"
   ]
  },
  {
   "cell_type": "code",
   "execution_count": 308,
   "id": "45d85124",
   "metadata": {},
   "outputs": [
    {
     "data": {
      "text/plain": [
       "0        0.0\n",
       "1        NaN\n",
       "2        4.0\n",
       "3        9.0\n",
       "4       16.0\n",
       "       ...  \n",
       "95    9025.0\n",
       "96    9216.0\n",
       "97    9409.0\n",
       "98    9604.0\n",
       "99    9801.0\n",
       "Length: 100, dtype: float64"
      ]
     },
     "execution_count": 308,
     "metadata": {},
     "output_type": "execute_result"
    }
   ],
   "source": [
    "# testing count with NaN\n",
    "import numpy as np\n",
    "squares_nan = squares.copy()\n",
    "squares_nan[1] = np.nan\n",
    "squares_nan[49] = np.nan\n",
    "squares_nan"
   ]
  },
  {
   "cell_type": "code",
   "execution_count": 309,
   "id": "d28e6c30",
   "metadata": {},
   "outputs": [
    {
     "data": {
      "text/plain": [
       "100"
      ]
     },
     "execution_count": 309,
     "metadata": {},
     "output_type": "execute_result"
    }
   ],
   "source": [
    "squares_nan.size"
   ]
  },
  {
   "cell_type": "code",
   "execution_count": 310,
   "id": "b1cef7b3",
   "metadata": {},
   "outputs": [
    {
     "data": {
      "text/plain": [
       "np.int64(98)"
      ]
     },
     "execution_count": 310,
     "metadata": {},
     "output_type": "execute_result"
    }
   ],
   "source": [
    "squares_nan.count()"
   ]
  },
  {
   "cell_type": "code",
   "execution_count": 311,
   "id": "982c716d",
   "metadata": {},
   "outputs": [
    {
     "data": {
      "text/plain": [
       "1    NaN\n",
       "49   NaN\n",
       "dtype: float64"
      ]
     },
     "execution_count": 311,
     "metadata": {},
     "output_type": "execute_result"
    }
   ],
   "source": [
    "# Filter the NaN occurrence\n",
    "squares_nan[squares_nan.isnull()]"
   ]
  },
  {
   "cell_type": "code",
   "execution_count": 312,
   "id": "9ae98ca3",
   "metadata": {},
   "outputs": [
    {
     "data": {
      "text/plain": [
       "[1, 49]"
      ]
     },
     "execution_count": 312,
     "metadata": {},
     "output_type": "execute_result"
    }
   ],
   "source": [
    "# python list of index\n",
    "list(squares_nan[squares_nan.isnull()].index)"
   ]
  },
  {
   "cell_type": "code",
   "execution_count": 313,
   "id": "ed15736f",
   "metadata": {},
   "outputs": [
    {
     "data": {
      "text/plain": [
       "np.int64(2)"
      ]
     },
     "execution_count": 313,
     "metadata": {},
     "output_type": "execute_result"
    }
   ],
   "source": [
    "# count nan values\n",
    "squares_nan.isna().sum()"
   ]
  },
  {
   "cell_type": "code",
   "execution_count": 314,
   "id": "ab30da1f",
   "metadata": {},
   "outputs": [
    {
     "data": {
      "text/plain": [
       "1    NaN\n",
       "49   NaN\n",
       "dtype: float64"
      ]
     },
     "execution_count": 314,
     "metadata": {},
     "output_type": "execute_result"
    }
   ],
   "source": [
    "squares_nan[np.isnan]"
   ]
  },
  {
   "cell_type": "code",
   "execution_count": 315,
   "id": "b957fec4",
   "metadata": {},
   "outputs": [
    {
     "data": {
      "text/plain": [
       "0        0.0\n",
       "2        4.0\n",
       "3        9.0\n",
       "4       16.0\n",
       "5       25.0\n",
       "       ...  \n",
       "95    9025.0\n",
       "96    9216.0\n",
       "97    9409.0\n",
       "98    9604.0\n",
       "99    9801.0\n",
       "Length: 98, dtype: float64"
      ]
     },
     "execution_count": 315,
     "metadata": {},
     "output_type": "execute_result"
    }
   ],
   "source": [
    "# get non null values\n",
    "squares_nan[squares_nan.notna()]"
   ]
  },
  {
   "cell_type": "code",
   "execution_count": 316,
   "id": "8c8839d9",
   "metadata": {},
   "outputs": [
    {
     "data": {
      "text/plain": [
       "np.int64(285)"
      ]
     },
     "execution_count": 316,
     "metadata": {},
     "output_type": "execute_result"
    }
   ],
   "source": [
    "# sum of values less than 100\n",
    "squares[squares < 100].sum()"
   ]
  },
  {
   "cell_type": "code",
   "execution_count": 317,
   "id": "0859eb87",
   "metadata": {},
   "outputs": [
    {
     "data": {
      "text/plain": [
       "0       0\n",
       "1       1\n",
       "2       4\n",
       "3       9\n",
       "4      16\n",
       "5      25\n",
       "6      36\n",
       "7      49\n",
       "8      64\n",
       "9      81\n",
       "10    100\n",
       "dtype: int64"
      ]
     },
     "execution_count": 317,
     "metadata": {},
     "output_type": "execute_result"
    }
   ],
   "source": [
    "squares[:11]"
   ]
  },
  {
   "cell_type": "markdown",
   "id": "9ddf0aa4",
   "metadata": {},
   "source": [
    "#### Dropping and Filling NaN"
   ]
  },
  {
   "cell_type": "code",
   "execution_count": 318,
   "id": "d12a6e44",
   "metadata": {},
   "outputs": [
    {
     "data": {
      "text/plain": [
       "np.float64(1.0)"
      ]
     },
     "execution_count": 318,
     "metadata": {},
     "output_type": "execute_result"
    }
   ],
   "source": [
    "# squares_nan = squares_nan.dropna()\n",
    "# squares_nan.dropna(inplace=True)\n",
    "# squares_nan.fillna('new_value', inplace=True)\n",
    "squares_nan.fillna(1,inplace=True)\n",
    "squares_nan[49]"
   ]
  },
  {
   "cell_type": "code",
   "execution_count": 319,
   "id": "68210eb0",
   "metadata": {},
   "outputs": [
    {
     "data": {
      "text/plain": [
       "np.float64(3283.5)"
      ]
     },
     "execution_count": 319,
     "metadata": {},
     "output_type": "execute_result"
    }
   ],
   "source": [
    "squares.mean()"
   ]
  },
  {
   "cell_type": "code",
   "execution_count": 320,
   "id": "bc7a7e64",
   "metadata": {},
   "outputs": [
    {
     "data": {
      "text/plain": [
       "2450.5"
      ]
     },
     "execution_count": 320,
     "metadata": {},
     "output_type": "execute_result"
    }
   ],
   "source": [
    "squares.median()"
   ]
  },
  {
   "cell_type": "code",
   "execution_count": 321,
   "id": "97da45f7",
   "metadata": {},
   "outputs": [
    {
     "data": {
      "text/plain": [
       "2968.1748039269296"
      ]
     },
     "execution_count": 321,
     "metadata": {},
     "output_type": "execute_result"
    }
   ],
   "source": [
    "# squares.var() -> variance\n",
    "squares.std()"
   ]
  },
  {
   "cell_type": "code",
   "execution_count": 322,
   "id": "9dd38112",
   "metadata": {},
   "outputs": [
    {
     "data": {
      "text/plain": [
       "np.float64(4900.5)"
      ]
     },
     "execution_count": 322,
     "metadata": {},
     "output_type": "execute_result"
    }
   ],
   "source": [
    "IQR = squares.quantile(0.75) - squares.quantile(0.25)\n",
    "IQR"
   ]
  },
  {
   "cell_type": "code",
   "execution_count": 323,
   "id": "327378f8",
   "metadata": {},
   "outputs": [
    {
     "data": {
      "text/plain": [
       "0"
      ]
     },
     "execution_count": 323,
     "metadata": {},
     "output_type": "execute_result"
    }
   ],
   "source": [
    "# min and max\n",
    "squares.min()"
   ]
  },
  {
   "cell_type": "code",
   "execution_count": 324,
   "id": "a88dd069",
   "metadata": {},
   "outputs": [
    {
     "data": {
      "text/plain": [
       "9801"
      ]
     },
     "execution_count": 324,
     "metadata": {},
     "output_type": "execute_result"
    }
   ],
   "source": [
    "squares.max()"
   ]
  },
  {
   "cell_type": "code",
   "execution_count": 325,
   "id": "fb96797d",
   "metadata": {},
   "outputs": [
    {
     "data": {
      "text/plain": [
       "count     100.000000\n",
       "mean     3283.500000\n",
       "std      2968.174804\n",
       "min         0.000000\n",
       "25%       612.750000\n",
       "50%      2450.500000\n",
       "75%      5513.250000\n",
       "max      9801.000000\n",
       "dtype: float64"
      ]
     },
     "execution_count": 325,
     "metadata": {},
     "output_type": "execute_result"
    }
   ],
   "source": [
    "# describe()\n",
    "squares.describe()"
   ]
  },
  {
   "cell_type": "code",
   "execution_count": 326,
   "id": "1f15ef85",
   "metadata": {},
   "outputs": [
    {
     "data": {
      "text/plain": [
       "0     51\n",
       "1     92\n",
       "2     14\n",
       "3     71\n",
       "4     60\n",
       "      ..\n",
       "95    84\n",
       "96    79\n",
       "97    81\n",
       "98    52\n",
       "99    23\n",
       "Length: 100, dtype: int64"
      ]
     },
     "execution_count": 326,
     "metadata": {},
     "output_type": "execute_result"
    }
   ],
   "source": [
    "np.random.seed(42)\n",
    "random_int = pd.Series(np.random.randint(0, 100, size=100))\n",
    "random_int"
   ]
  },
  {
   "cell_type": "code",
   "execution_count": 327,
   "id": "5b66a771",
   "metadata": {},
   "outputs": [
    {
     "data": {
      "text/plain": [
       "0    61\n",
       "dtype: int64"
      ]
     },
     "execution_count": 327,
     "metadata": {},
     "output_type": "execute_result"
    }
   ],
   "source": [
    "random_int.mode()"
   ]
  },
  {
   "cell_type": "code",
   "execution_count": 328,
   "id": "431db50d",
   "metadata": {},
   "outputs": [
    {
     "data": {
      "text/plain": [
       "61    5\n",
       "59    4\n",
       "1     4\n",
       "20    3\n",
       "52    3\n",
       "     ..\n",
       "94    1\n",
       "47    1\n",
       "39    1\n",
       "84    1\n",
       "81    1\n",
       "Name: count, Length: 61, dtype: int64"
      ]
     },
     "execution_count": 328,
     "metadata": {},
     "output_type": "execute_result"
    }
   ],
   "source": [
    "random_int.value_counts()"
   ]
  },
  {
   "cell_type": "code",
   "execution_count": 329,
   "id": "da509eb7",
   "metadata": {},
   "outputs": [
    {
     "data": {
      "text/plain": [
       "61    5\n",
       "59    4\n",
       "1     4\n",
       "20    3\n",
       "52    3\n",
       "3     3\n",
       "14    3\n",
       "Name: count, dtype: int64"
      ]
     },
     "execution_count": 329,
     "metadata": {},
     "output_type": "execute_result"
    }
   ],
   "source": [
    "random_int.value_counts().iloc[:7]"
   ]
  },
  {
   "cell_type": "code",
   "execution_count": 330,
   "id": "199cf23c",
   "metadata": {},
   "outputs": [
    {
     "data": {
      "text/plain": [
       "61    0.05\n",
       "59    0.04\n",
       "1     0.04\n",
       "20    0.03\n",
       "52    0.03\n",
       "      ... \n",
       "94    0.01\n",
       "47    0.01\n",
       "39    0.01\n",
       "84    0.01\n",
       "81    0.01\n",
       "Name: proportion, Length: 61, dtype: float64"
      ]
     },
     "execution_count": 330,
     "metadata": {},
     "output_type": "execute_result"
    }
   ],
   "source": [
    "random_int.value_counts(normalize=True)"
   ]
  },
  {
   "cell_type": "code",
   "execution_count": 331,
   "id": "b4ecde35",
   "metadata": {},
   "outputs": [
    {
     "data": {
      "text/plain": [
       "99"
      ]
     },
     "execution_count": 331,
     "metadata": {},
     "output_type": "execute_result"
    }
   ],
   "source": [
    "random_int.max()"
   ]
  },
  {
   "cell_type": "code",
   "execution_count": 332,
   "id": "ab589a6b",
   "metadata": {},
   "outputs": [],
   "source": [
    "random_int.sort_values(ascending=False, inplace=True)"
   ]
  },
  {
   "cell_type": "code",
   "execution_count": 333,
   "id": "1a8050fd",
   "metadata": {},
   "outputs": [
    {
     "data": {
      "text/plain": [
       "np.int64(11)"
      ]
     },
     "execution_count": 333,
     "metadata": {},
     "output_type": "execute_result"
    }
   ],
   "source": [
    "random_int.idxmax()"
   ]
  },
  {
   "cell_type": "code",
   "execution_count": 334,
   "id": "3b810fe6",
   "metadata": {},
   "outputs": [
    {
     "data": {
      "text/plain": [
       "11    99\n",
       "85    99\n",
       "dtype: int64"
      ]
     },
     "execution_count": 334,
     "metadata": {},
     "output_type": "execute_result"
    }
   ],
   "source": [
    "random_int[random_int == random_int.max()]"
   ]
  },
  {
   "cell_type": "code",
   "execution_count": 335,
   "id": "4ae5f97f",
   "metadata": {},
   "outputs": [
    {
     "data": {
      "text/plain": [
       "20    1\n",
       "16    1\n",
       "58    1\n",
       "72    1\n",
       "dtype: int64"
      ]
     },
     "execution_count": 335,
     "metadata": {},
     "output_type": "execute_result"
    }
   ],
   "source": [
    "random_int[random_int == random_int.min()]"
   ]
  },
  {
   "cell_type": "code",
   "execution_count": 336,
   "id": "0d9fa843",
   "metadata": {},
   "outputs": [
    {
     "data": {
      "text/plain": [
       "11    99\n",
       "85    99\n",
       "87    94\n",
       "1     92\n",
       "77    92\n",
       "60    91\n",
       "33    91\n",
       "30    90\n",
       "56    89\n",
       "80    89\n",
       "dtype: int64"
      ]
     },
     "execution_count": 336,
     "metadata": {},
     "output_type": "execute_result"
    }
   ],
   "source": [
    "# nlargest / nsmallest\n",
    "random_int.nlargest(10)"
   ]
  },
  {
   "cell_type": "code",
   "execution_count": 337,
   "id": "aa2c8d6a",
   "metadata": {},
   "outputs": [
    {
     "data": {
      "text/plain": [
       "11    99\n",
       "85    99\n",
       "87    94\n",
       "1     92\n",
       "77    92\n",
       "      ..\n",
       "44     2\n",
       "20     1\n",
       "16     1\n",
       "58     1\n",
       "72     1\n",
       "Length: 100, dtype: int64"
      ]
     },
     "execution_count": 337,
     "metadata": {},
     "output_type": "execute_result"
    }
   ],
   "source": [
    "random_int"
   ]
  },
  {
   "cell_type": "code",
   "execution_count": 338,
   "id": "242946e6",
   "metadata": {},
   "outputs": [
    {
     "data": {
      "text/plain": [
       "0     51\n",
       "1     92\n",
       "2     14\n",
       "3     71\n",
       "4     60\n",
       "      ..\n",
       "95    84\n",
       "96    79\n",
       "97    81\n",
       "98    52\n",
       "99    23\n",
       "Length: 100, dtype: int64"
      ]
     },
     "execution_count": 338,
     "metadata": {},
     "output_type": "execute_result"
    }
   ],
   "source": [
    "# original ordering by index\n",
    "random_int.sort_index(inplace=True)\n",
    "random_int"
   ]
  },
  {
   "cell_type": "code",
   "execution_count": 339,
   "id": "038178c5",
   "metadata": {},
   "outputs": [
    {
     "data": {
      "text/plain": [
       "11    99\n",
       "85    99\n",
       "87    94\n",
       "1     92\n",
       "77    92\n",
       "33    91\n",
       "60    91\n",
       "30    90\n",
       "56    89\n",
       "80    89\n",
       "28    88\n",
       "52    88\n",
       "10    87\n",
       "17    87\n",
       "7     86\n",
       "92    86\n",
       "95    84\n",
       "59    83\n",
       "6     82\n",
       "97    81\n",
       "68    80\n",
       "35    79\n",
       "96    79\n",
       "67    77\n",
       "91    77\n",
       "25    75\n",
       "8     74\n",
       "9     74\n",
       "83    73\n",
       "48    72\n",
       "3     71\n",
       "90    71\n",
       "62    70\n",
       "21    63\n",
       "43    63\n",
       "78    62\n",
       "37    61\n",
       "38    61\n",
       "40    61\n",
       "84    61\n",
       "93    61\n",
       "4     60\n",
       "22    59\n",
       "34    59\n",
       "53    59\n",
       "61    59\n",
       "31    58\n",
       "26    57\n",
       "42    54\n",
       "74    53\n",
       "dtype: int64"
      ]
     },
     "execution_count": 339,
     "metadata": {},
     "output_type": "execute_result"
    }
   ],
   "source": [
    "largest = random_int.nlargest(50)\n",
    "largest"
   ]
  },
  {
   "cell_type": "code",
   "execution_count": 340,
   "id": "3193e844",
   "metadata": {},
   "outputs": [
    {
     "data": {
      "text/plain": [
       "count    50.00000\n",
       "mean     75.22000\n",
       "std      13.30688\n",
       "min      53.00000\n",
       "25%      61.00000\n",
       "50%      76.00000\n",
       "75%      87.00000\n",
       "max      99.00000\n",
       "dtype: float64"
      ]
     },
     "execution_count": 340,
     "metadata": {},
     "output_type": "execute_result"
    }
   ],
   "source": [
    "largest.describe()"
   ]
  },
  {
   "cell_type": "code",
   "execution_count": 341,
   "id": "ab7f8b47",
   "metadata": {},
   "outputs": [
    {
     "data": {
      "text/plain": [
       "16     1\n",
       "20     1\n",
       "58     1\n",
       "72     1\n",
       "13     2\n",
       "44     2\n",
       "51     3\n",
       "71     3\n",
       "75     3\n",
       "73     5\n",
       "46     6\n",
       "64     7\n",
       "55     8\n",
       "54    13\n",
       "86    13\n",
       "2     14\n",
       "36    14\n",
       "89    14\n",
       "50    17\n",
       "79    17\n",
       "dtype: int64"
      ]
     },
     "execution_count": 341,
     "metadata": {},
     "output_type": "execute_result"
    }
   ],
   "source": [
    "smallest = random_int.nsmallest(20)\n",
    "smallest"
   ]
  },
  {
   "cell_type": "code",
   "execution_count": 342,
   "id": "d524ef98",
   "metadata": {},
   "outputs": [
    {
     "data": {
      "text/plain": [
       "count    20.000000\n",
       "mean      7.250000\n",
       "std       5.919415\n",
       "min       1.000000\n",
       "25%       2.000000\n",
       "50%       5.500000\n",
       "75%      13.250000\n",
       "max      17.000000\n",
       "dtype: float64"
      ]
     },
     "execution_count": 342,
     "metadata": {},
     "output_type": "execute_result"
    }
   ],
   "source": [
    "smallest.describe()"
   ]
  },
  {
   "cell_type": "code",
   "execution_count": 343,
   "id": "657ba64f",
   "metadata": {},
   "outputs": [
    {
     "data": {
      "text/plain": [
       "count    100.000000\n",
       "mean      50.540000\n",
       "std       29.425963\n",
       "min        1.000000\n",
       "25%       22.500000\n",
       "50%       53.000000\n",
       "75%       75.500000\n",
       "max       99.000000\n",
       "dtype: float64"
      ]
     },
     "execution_count": 343,
     "metadata": {},
     "output_type": "execute_result"
    }
   ],
   "source": [
    "random_int.describe()"
   ]
  },
  {
   "cell_type": "code",
   "execution_count": 344,
   "id": "29a105e5",
   "metadata": {},
   "outputs": [
    {
     "data": {
      "text/plain": [
       "0        1.0\n",
       "1        3.0\n",
       "2        4.0\n",
       "3        9.0\n",
       "4       16.0\n",
       "       ...  \n",
       "95    9025.0\n",
       "96    9216.0\n",
       "97    9409.0\n",
       "98    9604.0\n",
       "99    9801.0\n",
       "Length: 100, dtype: float64"
      ]
     },
     "execution_count": 344,
     "metadata": {},
     "output_type": "execute_result"
    }
   ],
   "source": [
    "# adding 2 series -> fill_value (avoid NaN values)\n",
    "new_values = pd.Series({0:1, 1: 2})\n",
    "squares.add(new_values, fill_value=0)"
   ]
  },
  {
   "cell_type": "code",
   "execution_count": 345,
   "id": "fde9e0f1",
   "metadata": {},
   "outputs": [],
   "source": [
    "# Other operations\n",
    "\n",
    "#squares.subtract(new_values, fill_value=0)\n",
    "#squares.divide(new_values, fill_value=1)\n",
    "#squares.multiply(new_values, fill_value=1)"
   ]
  },
  {
   "cell_type": "code",
   "execution_count": 346,
   "id": "b6d3e430",
   "metadata": {},
   "outputs": [
    {
     "data": {
      "text/plain": [
       "865.8872727272732"
      ]
     },
     "execution_count": 346,
     "metadata": {},
     "output_type": "execute_result"
    }
   ],
   "source": [
    "# Sample variance\n",
    "random_int.var()\n"
   ]
  },
  {
   "cell_type": "code",
   "execution_count": 347,
   "id": "cccea68e",
   "metadata": {},
   "outputs": [
    {
     "data": {
      "text/plain": [
       "857.2284000000004"
      ]
     },
     "execution_count": 347,
     "metadata": {},
     "output_type": "execute_result"
    }
   ],
   "source": [
    "# Population variance (N-ddof) default=1\n",
    "random_int.var(ddof=0)"
   ]
  },
  {
   "cell_type": "code",
   "execution_count": 348,
   "id": "42f9d493",
   "metadata": {},
   "outputs": [
    {
     "data": {
      "text/plain": [
       "0     51\n",
       "1     92\n",
       "2     14\n",
       "3     71\n",
       "4     60\n",
       "      ..\n",
       "95    84\n",
       "96    79\n",
       "97    81\n",
       "98    52\n",
       "99    23\n",
       "Length: 100, dtype: int64"
      ]
     },
     "execution_count": 348,
     "metadata": {},
     "output_type": "execute_result"
    }
   ],
   "source": [
    "random_int"
   ]
  },
  {
   "cell_type": "code",
   "execution_count": 349,
   "id": "205cad61",
   "metadata": {},
   "outputs": [
    {
     "data": {
      "text/plain": [
       "0      NaN\n",
       "1     41.0\n",
       "2    -78.0\n",
       "3     57.0\n",
       "4    -11.0\n",
       "      ... \n",
       "95    45.0\n",
       "96    -5.0\n",
       "97     2.0\n",
       "98   -29.0\n",
       "99   -29.0\n",
       "Length: 100, dtype: float64"
      ]
     },
     "execution_count": 349,
     "metadata": {},
     "output_type": "execute_result"
    }
   ],
   "source": [
    "# element-wise difference vi-vi-1\n",
    "random_int.diff(periods=1)"
   ]
  },
  {
   "cell_type": "code",
   "execution_count": 350,
   "id": "30799210",
   "metadata": {},
   "outputs": [
    {
     "data": {
      "text/plain": [
       "0    51\n",
       "1    92\n",
       "2    14\n",
       "3    71\n",
       "4    60\n",
       "5    20\n",
       "6    82\n",
       "7    86\n",
       "8    74\n",
       "9    74\n",
       "dtype: int64"
      ]
     },
     "execution_count": 350,
     "metadata": {},
     "output_type": "execute_result"
    }
   ],
   "source": [
    "# itarations\n",
    "mini_random_int = random_int[:10]\n",
    "mini_random_int"
   ]
  },
  {
   "cell_type": "code",
   "execution_count": 351,
   "id": "768530cd",
   "metadata": {},
   "outputs": [
    {
     "name": "stdout",
     "output_type": "stream",
     "text": [
      "51\n",
      "92\n",
      "14\n",
      "71\n",
      "60\n",
      "20\n",
      "82\n",
      "86\n",
      "74\n",
      "74\n"
     ]
    }
   ],
   "source": [
    "for i in mini_random_int:\n",
    "    print(i)"
   ]
  },
  {
   "cell_type": "code",
   "execution_count": 352,
   "id": "77e461ac",
   "metadata": {},
   "outputs": [
    {
     "name": "stdout",
     "output_type": "stream",
     "text": [
      "0\n",
      "1\n",
      "2\n",
      "3\n",
      "4\n",
      "5\n",
      "6\n",
      "7\n",
      "8\n",
      "9\n"
     ]
    }
   ],
   "source": [
    "for i in mini_random_int.index:\n",
    "    print(i)"
   ]
  },
  {
   "cell_type": "code",
   "execution_count": 353,
   "id": "5f08fc6b",
   "metadata": {},
   "outputs": [
    {
     "name": "stdout",
     "output_type": "stream",
     "text": [
      "(0, 51)\n",
      "(1, 92)\n",
      "(2, 14)\n",
      "(3, 71)\n",
      "(4, 60)\n",
      "(5, 20)\n",
      "(6, 82)\n",
      "(7, 86)\n",
      "(8, 74)\n",
      "(9, 74)\n"
     ]
    }
   ],
   "source": [
    "# items() return a tuple\n",
    "for i in mini_random_int.items():\n",
    "    print(i)"
   ]
  },
  {
   "cell_type": "code",
   "execution_count": 354,
   "id": "4c21b8c3",
   "metadata": {},
   "outputs": [
    {
     "data": {
      "text/plain": [
       "0     153\n",
       "1     276\n",
       "2      42\n",
       "3     213\n",
       "4     180\n",
       "     ... \n",
       "95    252\n",
       "96    237\n",
       "97    243\n",
       "98    156\n",
       "99     69\n",
       "Length: 100, dtype: int64"
      ]
     },
     "execution_count": 354,
     "metadata": {},
     "output_type": "execute_result"
    }
   ],
   "source": [
    "# apply()\n",
    "def multiply_by_3(x):\n",
    "    return 3 * x\n",
    "\n",
    "random_int.apply(multiply_by_3)"
   ]
  },
  {
   "cell_type": "code",
   "execution_count": 355,
   "id": "2172bee7",
   "metadata": {},
   "outputs": [
    {
     "data": {
      "text/plain": [
       "0     51\n",
       "1     92\n",
       "2     42\n",
       "3     71\n",
       "4     60\n",
       "      ..\n",
       "95    84\n",
       "96    79\n",
       "97    81\n",
       "98    52\n",
       "99    69\n",
       "Length: 100, dtype: int64"
      ]
     },
     "execution_count": 355,
     "metadata": {},
     "output_type": "execute_result"
    }
   ],
   "source": [
    "def multiply_small_by_3(x, min):\n",
    "    if x > min: return x\n",
    "\n",
    "    return x * 3\n",
    "\n",
    "random_int.apply(multiply_small_by_3, args=(50,))"
   ]
  },
  {
   "cell_type": "code",
   "execution_count": 356,
   "id": "ba8dfd5d",
   "metadata": {},
   "outputs": [
    {
     "data": {
      "text/plain": [
       "0     51\n",
       "1     92\n",
       "2     42\n",
       "3     71\n",
       "4     60\n",
       "      ..\n",
       "95    84\n",
       "96    79\n",
       "97    81\n",
       "98    52\n",
       "99    69\n",
       "Length: 100, dtype: int64"
      ]
     },
     "execution_count": 356,
     "metadata": {},
     "output_type": "execute_result"
    }
   ],
   "source": [
    "random_int.apply(multiply_small_by_3, min=50)"
   ]
  },
  {
   "cell_type": "code",
   "execution_count": 357,
   "id": "1f2a93ab",
   "metadata": {},
   "outputs": [],
   "source": [
    "# Exercise\n",
    "np.random.seed(42)\n",
    "random_int_200 = pd.Series(np.random.randint(0,100,200))\n",
    "random_int_100 = pd.Series(np.random.randint(0,100,100))"
   ]
  },
  {
   "cell_type": "code",
   "execution_count": 358,
   "id": "9c7ab063",
   "metadata": {},
   "outputs": [
    {
     "data": {
      "text/plain": [
       "0    38\n",
       "1    28\n",
       "2    14\n",
       "3    42\n",
       "4     7\n",
       "dtype: int64"
      ]
     },
     "execution_count": 358,
     "metadata": {},
     "output_type": "execute_result"
    }
   ],
   "source": [
    "# left skewed distribution\n",
    "np.random.seed(42)\n",
    "random_int_left = pd.Series(np.random.randint(0,50,100))\n",
    "random_int_left.head()\n"
   ]
  },
  {
   "cell_type": "code",
   "execution_count": 359,
   "id": "f59adbe5",
   "metadata": {},
   "outputs": [
    {
     "data": {
      "text/plain": [
       "0       8\n",
       "1      61\n",
       "2      36\n",
       "3      96\n",
       "4      50\n",
       "       ..\n",
       "195    14\n",
       "196    44\n",
       "197     0\n",
       "198    24\n",
       "199     6\n",
       "Length: 200, dtype: int64"
      ]
     },
     "execution_count": 359,
     "metadata": {},
     "output_type": "execute_result"
    }
   ],
   "source": [
    "new_serie_l = pd.concat([random_int_100, random_int_left], ignore_index=True)\n",
    "new_serie_l"
   ]
  },
  {
   "cell_type": "code",
   "execution_count": 360,
   "id": "0bf7414b",
   "metadata": {},
   "outputs": [
    {
     "data": {
      "text/plain": [
       "0    88\n",
       "1    78\n",
       "2    64\n",
       "3    92\n",
       "4    57\n",
       "dtype: int64"
      ]
     },
     "execution_count": 360,
     "metadata": {},
     "output_type": "execute_result"
    }
   ],
   "source": [
    "# right skewed distribution\n",
    "np.random.seed(42)\n",
    "random_int_right = pd.Series(np.random.randint(50,100,100))\n",
    "random_int_right.head()"
   ]
  },
  {
   "cell_type": "code",
   "execution_count": 361,
   "id": "83eb85c0",
   "metadata": {},
   "outputs": [
    {
     "data": {
      "text/plain": [
       "0       8\n",
       "1      61\n",
       "2      36\n",
       "3      96\n",
       "4      50\n",
       "       ..\n",
       "195    64\n",
       "196    94\n",
       "197    50\n",
       "198    74\n",
       "199    56\n",
       "Length: 200, dtype: int64"
      ]
     },
     "execution_count": 361,
     "metadata": {},
     "output_type": "execute_result"
    }
   ],
   "source": [
    "new_serie_r = pd.concat([random_int_100, random_int_right], ignore_index=True)\n",
    "new_serie_r"
   ]
  },
  {
   "cell_type": "code",
   "execution_count": 362,
   "id": "f66e1664",
   "metadata": {},
   "outputs": [
    {
     "data": {
      "text/html": [
       "<div>\n",
       "<style scoped>\n",
       "    .dataframe tbody tr th:only-of-type {\n",
       "        vertical-align: middle;\n",
       "    }\n",
       "\n",
       "    .dataframe tbody tr th {\n",
       "        vertical-align: top;\n",
       "    }\n",
       "\n",
       "    .dataframe thead th {\n",
       "        text-align: right;\n",
       "    }\n",
       "</style>\n",
       "<table border=\"1\" class=\"dataframe\">\n",
       "  <thead>\n",
       "    <tr style=\"text-align: right;\">\n",
       "      <th></th>\n",
       "      <th>0</th>\n",
       "      <th>1</th>\n",
       "      <th>2</th>\n",
       "    </tr>\n",
       "  </thead>\n",
       "  <tbody>\n",
       "    <tr>\n",
       "      <th>count</th>\n",
       "      <td>200.000000</td>\n",
       "      <td>200.000000</td>\n",
       "      <td>200.000000</td>\n",
       "    </tr>\n",
       "    <tr>\n",
       "      <th>mean</th>\n",
       "      <td>49.010000</td>\n",
       "      <td>36.365000</td>\n",
       "      <td>61.365000</td>\n",
       "    </tr>\n",
       "    <tr>\n",
       "      <th>std</th>\n",
       "      <td>29.667502</td>\n",
       "      <td>27.090427</td>\n",
       "      <td>27.279896</td>\n",
       "    </tr>\n",
       "    <tr>\n",
       "      <th>min</th>\n",
       "      <td>0.000000</td>\n",
       "      <td>0.000000</td>\n",
       "      <td>0.000000</td>\n",
       "    </tr>\n",
       "    <tr>\n",
       "      <th>25%</th>\n",
       "      <td>24.500000</td>\n",
       "      <td>15.000000</td>\n",
       "      <td>50.750000</td>\n",
       "    </tr>\n",
       "    <tr>\n",
       "      <th>50%</th>\n",
       "      <td>50.500000</td>\n",
       "      <td>31.500000</td>\n",
       "      <td>66.000000</td>\n",
       "    </tr>\n",
       "    <tr>\n",
       "      <th>75%</th>\n",
       "      <td>74.250000</td>\n",
       "      <td>51.000000</td>\n",
       "      <td>85.000000</td>\n",
       "    </tr>\n",
       "    <tr>\n",
       "      <th>max</th>\n",
       "      <td>99.000000</td>\n",
       "      <td>98.000000</td>\n",
       "      <td>99.000000</td>\n",
       "    </tr>\n",
       "  </tbody>\n",
       "</table>\n",
       "</div>"
      ],
      "text/plain": [
       "                0           1           2\n",
       "count  200.000000  200.000000  200.000000\n",
       "mean    49.010000   36.365000   61.365000\n",
       "std     29.667502   27.090427   27.279896\n",
       "min      0.000000    0.000000    0.000000\n",
       "25%     24.500000   15.000000   50.750000\n",
       "50%     50.500000   31.500000   66.000000\n",
       "75%     74.250000   51.000000   85.000000\n",
       "max     99.000000   98.000000   99.000000"
      ]
     },
     "execution_count": 362,
     "metadata": {},
     "output_type": "execute_result"
    }
   ],
   "source": [
    "pd.concat([random_int_200.describe(), new_serie_l.describe(), new_serie_r.describe()], axis=1)"
   ]
  },
  {
   "cell_type": "code",
   "execution_count": 363,
   "id": "fda1798f",
   "metadata": {},
   "outputs": [
    {
     "name": "stdout",
     "output_type": "stream",
     "text": [
      "61 1 51\n"
     ]
    }
   ],
   "source": [
    "print(random_int_200.mode()[0], new_serie_l.mode()[0], new_serie_r.mode()[0])"
   ]
  },
  {
   "cell_type": "code",
   "execution_count": 364,
   "id": "ad850d47",
   "metadata": {},
   "outputs": [
    {
     "data": {
      "text/plain": [
       "61    10\n",
       "14     6\n",
       "59     5\n",
       "88     5\n",
       "87     5\n",
       "2      4\n",
       "1      4\n",
       "89     4\n",
       "27     4\n",
       "34     4\n",
       "Name: count, dtype: int64"
      ]
     },
     "execution_count": 364,
     "metadata": {},
     "output_type": "execute_result"
    }
   ],
   "source": [
    "random_int_200.value_counts().iloc[:10]"
   ]
  },
  {
   "cell_type": "code",
   "execution_count": 365,
   "id": "c0668095",
   "metadata": {},
   "outputs": [
    {
     "data": {
      "text/plain": [
       "1     9\n",
       "43    7\n",
       "23    6\n",
       "38    5\n",
       "18    5\n",
       "58    4\n",
       "31    4\n",
       "20    4\n",
       "8     4\n",
       "6     4\n",
       "Name: count, dtype: int64"
      ]
     },
     "execution_count": 365,
     "metadata": {},
     "output_type": "execute_result"
    }
   ],
   "source": [
    "new_serie_l.value_counts().iloc[:10]"
   ]
  },
  {
   "cell_type": "code",
   "execution_count": 366,
   "id": "57a5edef",
   "metadata": {},
   "outputs": [
    {
     "data": {
      "text/plain": [
       "96    7\n",
       "51    7\n",
       "89    6\n",
       "93    6\n",
       "58    6\n",
       "74    5\n",
       "1     5\n",
       "70    5\n",
       "78    4\n",
       "31    4\n",
       "Name: count, dtype: int64"
      ]
     },
     "execution_count": 366,
     "metadata": {},
     "output_type": "execute_result"
    }
   ],
   "source": [
    "new_serie_r.value_counts().iloc[:10]"
   ]
  },
  {
   "cell_type": "code",
   "execution_count": 367,
   "id": "a0885662",
   "metadata": {},
   "outputs": [
    {
     "data": {
      "text/html": [
       "<div>\n",
       "<style scoped>\n",
       "    .dataframe tbody tr th:only-of-type {\n",
       "        vertical-align: middle;\n",
       "    }\n",
       "\n",
       "    .dataframe tbody tr th {\n",
       "        vertical-align: top;\n",
       "    }\n",
       "\n",
       "    .dataframe thead th {\n",
       "        text-align: right;\n",
       "    }\n",
       "</style>\n",
       "<table border=\"1\" class=\"dataframe\">\n",
       "  <thead>\n",
       "    <tr style=\"text-align: right;\">\n",
       "      <th></th>\n",
       "      <th>0</th>\n",
       "      <th>1</th>\n",
       "      <th>2</th>\n",
       "    </tr>\n",
       "  </thead>\n",
       "  <tbody>\n",
       "    <tr>\n",
       "      <th>0</th>\n",
       "      <td>0.067077</td>\n",
       "      <td>-1.047049</td>\n",
       "      <td>-1.956202</td>\n",
       "    </tr>\n",
       "    <tr>\n",
       "      <th>1</th>\n",
       "      <td>1.449060</td>\n",
       "      <td>0.909362</td>\n",
       "      <td>-0.013380</td>\n",
       "    </tr>\n",
       "    <tr>\n",
       "      <th>2</th>\n",
       "      <td>-1.180079</td>\n",
       "      <td>-0.013473</td>\n",
       "      <td>-0.929806</td>\n",
       "    </tr>\n",
       "    <tr>\n",
       "      <th>3</th>\n",
       "      <td>0.741215</td>\n",
       "      <td>2.201331</td>\n",
       "      <td>1.269616</td>\n",
       "    </tr>\n",
       "    <tr>\n",
       "      <th>4</th>\n",
       "      <td>0.370439</td>\n",
       "      <td>0.503314</td>\n",
       "      <td>-0.416607</td>\n",
       "    </tr>\n",
       "    <tr>\n",
       "      <th>...</th>\n",
       "      <td>...</td>\n",
       "      <td>...</td>\n",
       "      <td>...</td>\n",
       "    </tr>\n",
       "    <tr>\n",
       "      <th>195</th>\n",
       "      <td>0.909750</td>\n",
       "      <td>-0.825568</td>\n",
       "      <td>0.096591</td>\n",
       "    </tr>\n",
       "    <tr>\n",
       "      <th>196</th>\n",
       "      <td>-1.584562</td>\n",
       "      <td>0.281834</td>\n",
       "      <td>1.196302</td>\n",
       "    </tr>\n",
       "    <tr>\n",
       "      <th>197</th>\n",
       "      <td>0.673801</td>\n",
       "      <td>-1.342356</td>\n",
       "      <td>-0.416607</td>\n",
       "    </tr>\n",
       "    <tr>\n",
       "      <th>198</th>\n",
       "      <td>0.741215</td>\n",
       "      <td>-0.456434</td>\n",
       "      <td>0.463162</td>\n",
       "    </tr>\n",
       "    <tr>\n",
       "      <th>199</th>\n",
       "      <td>-0.775596</td>\n",
       "      <td>-1.120876</td>\n",
       "      <td>-0.196665</td>\n",
       "    </tr>\n",
       "  </tbody>\n",
       "</table>\n",
       "<p>200 rows × 3 columns</p>\n",
       "</div>"
      ],
      "text/plain": [
       "            0         1         2\n",
       "0    0.067077 -1.047049 -1.956202\n",
       "1    1.449060  0.909362 -0.013380\n",
       "2   -1.180079 -0.013473 -0.929806\n",
       "3    0.741215  2.201331  1.269616\n",
       "4    0.370439  0.503314 -0.416607\n",
       "..        ...       ...       ...\n",
       "195  0.909750 -0.825568  0.096591\n",
       "196 -1.584562  0.281834  1.196302\n",
       "197  0.673801 -1.342356 -0.416607\n",
       "198  0.741215 -0.456434  0.463162\n",
       "199 -0.775596 -1.120876 -0.196665\n",
       "\n",
       "[200 rows x 3 columns]"
      ]
     },
     "execution_count": 367,
     "metadata": {},
     "output_type": "execute_result"
    }
   ],
   "source": [
    "# z-scores\n",
    "def z_score(x, mean, std):\n",
    "    return (x-mean)/std\n",
    "\n",
    "s1 = random_int_200.apply(z_score, mean=random_int_200.mean(), std=random_int_200.std())\n",
    "s2 = new_serie_l.apply(z_score, mean=new_serie_l.mean(), std=new_serie_l.std())\n",
    "s3 = new_serie_r.apply(z_score, mean=new_serie_r.mean(), std=new_serie_r.std())\n",
    "\n",
    "pd.concat([s1, s2, s3], axis=1)"
   ]
  },
  {
   "cell_type": "code",
   "execution_count": 368,
   "id": "afbae8a3",
   "metadata": {},
   "outputs": [
    {
     "data": {
      "text/plain": [
       "11     1.685009\n",
       "85     1.685009\n",
       "136    1.651302\n",
       "142    1.651302\n",
       "191    1.583888\n",
       "dtype: float64"
      ]
     },
     "execution_count": 368,
     "metadata": {},
     "output_type": "execute_result"
    }
   ],
   "source": [
    "s1.nlargest(5)"
   ]
  },
  {
   "cell_type": "code",
   "execution_count": 369,
   "id": "0bb1d3a6",
   "metadata": {},
   "outputs": [
    {
     "data": {
      "text/plain": [
       "112   -1.651976\n",
       "146   -1.651976\n",
       "192   -1.651976\n",
       "16    -1.618269\n",
       "20    -1.618269\n",
       "dtype: float64"
      ]
     },
     "execution_count": 369,
     "metadata": {},
     "output_type": "execute_result"
    }
   ],
   "source": [
    "s1.nsmallest(5)"
   ]
  },
  {
   "cell_type": "code",
   "execution_count": 370,
   "id": "11066988",
   "metadata": {},
   "outputs": [
    {
     "data": {
      "text/plain": [
       "84    2.275158\n",
       "97    2.275158\n",
       "47    2.238245\n",
       "3     2.201331\n",
       "29    2.201331\n",
       "dtype: float64"
      ]
     },
     "execution_count": 370,
     "metadata": {},
     "output_type": "execute_result"
    }
   ],
   "source": [
    "s2.nlargest(5)"
   ]
  },
  {
   "cell_type": "code",
   "execution_count": 371,
   "id": "040ef2d0",
   "metadata": {},
   "outputs": [
    {
     "data": {
      "text/plain": [
       "30    -1.342356\n",
       "74    -1.342356\n",
       "90    -1.342356\n",
       "197   -1.342356\n",
       "18    -1.305443\n",
       "dtype: float64"
      ]
     },
     "execution_count": 371,
     "metadata": {},
     "output_type": "execute_result"
    }
   ],
   "source": [
    "s2.nsmallest(5)"
   ]
  },
  {
   "cell_type": "code",
   "execution_count": 372,
   "id": "3d7a8eec",
   "metadata": {},
   "outputs": [
    {
     "data": {
      "text/plain": [
       "147    1.379587\n",
       "162    1.379587\n",
       "84     1.342930\n",
       "97     1.342930\n",
       "129    1.342930\n",
       "dtype: float64"
      ]
     },
     "execution_count": 372,
     "metadata": {},
     "output_type": "execute_result"
    }
   ],
   "source": [
    "s3.nlargest(5)"
   ]
  },
  {
   "cell_type": "code",
   "execution_count": 373,
   "id": "335d4696",
   "metadata": {},
   "outputs": [
    {
     "data": {
      "text/plain": [
       "30   -2.249459\n",
       "74   -2.249459\n",
       "90   -2.249459\n",
       "18   -2.212802\n",
       "23   -2.212802\n",
       "dtype: float64"
      ]
     },
     "execution_count": 373,
     "metadata": {},
     "output_type": "execute_result"
    }
   ],
   "source": [
    "s3.nsmallest(5)"
   ]
  },
  {
   "cell_type": "code",
   "execution_count": 374,
   "id": "7db2e388",
   "metadata": {},
   "outputs": [
    {
     "data": {
      "text/plain": [
       "<Axes: ylabel='Density'>"
      ]
     },
     "execution_count": 374,
     "metadata": {},
     "output_type": "execute_result"
    },
    {
     "data": {
      "image/png": "[encoded data removed]",
      "text/plain": [
       "<Figure size 640x480 with 1 Axes>"
      ]
     },
     "metadata": {},
     "output_type": "display_data"
    }
   ],
   "source": [
    "s1.plot.kde()"
   ]
  },
  {
   "cell_type": "code",
   "execution_count": 375,
   "id": "9c50786c",
   "metadata": {},
   "outputs": [
    {
     "data": {
      "text/plain": [
       "<Axes: ylabel='Density'>"
      ]
     },
     "execution_count": 375,
     "metadata": {},
     "output_type": "execute_result"
    },
    {
     "data": {
      "image/png": "[encoded data removed]",
      "text/plain": [
       "<Figure size 640x480 with 1 Axes>"
      ]
     },
     "metadata": {},
     "output_type": "display_data"
    }
   ],
   "source": [
    "s2.plot.kde()"
   ]
  },
  {
   "cell_type": "code",
   "execution_count": 376,
   "id": "40653ed1",
   "metadata": {},
   "outputs": [
    {
     "data": {
      "text/plain": [
       "<Axes: ylabel='Density'>"
      ]
     },
     "execution_count": 376,
     "metadata": {},
     "output_type": "execute_result"
    },
    {
     "data": {
      "image/png": "[encoded data removed]",
      "text/plain": [
       "<Figure size 640x480 with 1 Axes>"
      ]
     },
     "metadata": {},
     "output_type": "display_data"
    }
   ],
   "source": [
    "s3.plot.kde()"
   ]
  }
 ],
 "metadata": {
  "kernelspec": {
   "display_name": "data_science_env",
   "language": "python",
   "name": "python3"
  },
  "language_info": {
   "codemirror_mode": {
    "name": "ipython",
    "version": 3
   },
   "file_extension": ".py",
   "mimetype": "text/x-python",
   "name": "python",
   "nbconvert_exporter": "python",
   "pygments_lexer": "ipython3",
   "version": "3.13.2"
  }
 },
 "nbformat": 4,
 "nbformat_minor": 5
}
